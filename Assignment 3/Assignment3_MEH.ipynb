{
  "nbformat": 4,
  "nbformat_minor": 0,
  "metadata": {
    "colab": {
      "provenance": [],
      "collapsed_sections": [
        "bSGN3x8yc3_V",
        "YqJkdUlJdmSy",
        "bVI1AOkkeH2z",
        "LDLqvnxyhXfi",
        "S4ddsd0okSkE",
        "DeQvW30bJuHC"
      ]
    },
    "kernelspec": {
      "name": "python3",
      "display_name": "Python 3"
    },
    "language_info": {
      "name": "python"
    }
  },
  "cells": [
    {
      "cell_type": "markdown",
      "source": [
        "## Importing the Libraries"
      ],
      "metadata": {
        "id": "bSGN3x8yc3_V"
      }
    },
    {
      "cell_type": "markdown",
      "source": [
        "This imports pandas, numpy, matplotlib.pyplot, and seaborn so that they can be used to manipulate and analyze the data from the csv file."
      ],
      "metadata": {
        "id": "Rj-mZs1BdgUi"
      }
    },
    {
      "cell_type": "code",
      "execution_count": 416,
      "metadata": {
        "id": "eOeJY9FPc1JW"
      },
      "outputs": [],
      "source": [
        "import pandas as pd\n",
        "import numpy as np\n",
        "import matplotlib.pyplot as plt\n",
        "import seaborn as sns"
      ]
    },
    {
      "cell_type": "markdown",
      "source": [
        "## Reading CSV Dataset File"
      ],
      "metadata": {
        "id": "YqJkdUlJdmSy"
      }
    },
    {
      "cell_type": "markdown",
      "source": [
        "`customer_data` is created here by using pandas to read the csv file and pull all the data into a single place."
      ],
      "metadata": {
        "id": "KYq_SQsMdo07"
      }
    },
    {
      "cell_type": "code",
      "source": [
        "customer_data = pd.read_csv(\"/content/drive/MyDrive/Colab Notebooks/CS 430 Machine Learning/Assignment3_MEH/customer_data.csv\")"
      ],
      "metadata": {
        "id": "0_WTtb9ldlyD"
      },
      "execution_count": 417,
      "outputs": []
    },
    {
      "cell_type": "markdown",
      "source": [
        "## Exploring the Dataset"
      ],
      "metadata": {
        "id": "bVI1AOkkeH2z"
      }
    },
    {
      "cell_type": "markdown",
      "source": [
        "`customer_data.head()` allows the user to see the first 5 rows of the dataset. `customer_data.info()` allows the user to see the total number of entries, the datatypes of each column, how many entries are null / not null, and each column in the dataset."
      ],
      "metadata": {
        "id": "LEX7cg97eIE0"
      }
    },
    {
      "cell_type": "code",
      "source": [
        "customer_data.head()"
      ],
      "metadata": {
        "colab": {
          "base_uri": "https://localhost:8080/",
          "height": 204
        },
        "id": "PSpuaOF_eIM4",
        "outputId": "ff2c9d72-99e1-422c-cf83-c9ffd75f8daf"
      },
      "execution_count": 418,
      "outputs": [
        {
          "output_type": "execute_result",
          "data": {
            "text/plain": [
              "   label        id  fea_1   fea_2  fea_3     fea_4  fea_5  fea_6  fea_7  \\\n",
              "0      1  54982665      5  1245.5      3   77000.0      2     15      5   \n",
              "1      0  59004779      4  1277.0      1  113000.0      2      8     -1   \n",
              "2      0  58990862      7  1298.0      1  110000.0      2     11     -1   \n",
              "3      1  58995168      7  1335.5      1  151000.0      2     11      5   \n",
              "4      0  54987320      7     NaN      2   59000.0      2     11      5   \n",
              "\n",
              "   fea_8  fea_9  fea_10      fea_11  \n",
              "0    109      5  151300  244.948974  \n",
              "1    100      3  341759  207.173840  \n",
              "2    101      5   72001    1.000000  \n",
              "3    110      3   60084    1.000000  \n",
              "4    108      4  450081  197.403141  "
            ],
            "text/html": [
              "\n",
              "  <div id=\"df-7ac1119b-54fc-4b35-b997-1c0a21dbb6ca\">\n",
              "    <div class=\"colab-df-container\">\n",
              "      <div>\n",
              "<style scoped>\n",
              "    .dataframe tbody tr th:only-of-type {\n",
              "        vertical-align: middle;\n",
              "    }\n",
              "\n",
              "    .dataframe tbody tr th {\n",
              "        vertical-align: top;\n",
              "    }\n",
              "\n",
              "    .dataframe thead th {\n",
              "        text-align: right;\n",
              "    }\n",
              "</style>\n",
              "<table border=\"1\" class=\"dataframe\">\n",
              "  <thead>\n",
              "    <tr style=\"text-align: right;\">\n",
              "      <th></th>\n",
              "      <th>label</th>\n",
              "      <th>id</th>\n",
              "      <th>fea_1</th>\n",
              "      <th>fea_2</th>\n",
              "      <th>fea_3</th>\n",
              "      <th>fea_4</th>\n",
              "      <th>fea_5</th>\n",
              "      <th>fea_6</th>\n",
              "      <th>fea_7</th>\n",
              "      <th>fea_8</th>\n",
              "      <th>fea_9</th>\n",
              "      <th>fea_10</th>\n",
              "      <th>fea_11</th>\n",
              "    </tr>\n",
              "  </thead>\n",
              "  <tbody>\n",
              "    <tr>\n",
              "      <th>0</th>\n",
              "      <td>1</td>\n",
              "      <td>54982665</td>\n",
              "      <td>5</td>\n",
              "      <td>1245.5</td>\n",
              "      <td>3</td>\n",
              "      <td>77000.0</td>\n",
              "      <td>2</td>\n",
              "      <td>15</td>\n",
              "      <td>5</td>\n",
              "      <td>109</td>\n",
              "      <td>5</td>\n",
              "      <td>151300</td>\n",
              "      <td>244.948974</td>\n",
              "    </tr>\n",
              "    <tr>\n",
              "      <th>1</th>\n",
              "      <td>0</td>\n",
              "      <td>59004779</td>\n",
              "      <td>4</td>\n",
              "      <td>1277.0</td>\n",
              "      <td>1</td>\n",
              "      <td>113000.0</td>\n",
              "      <td>2</td>\n",
              "      <td>8</td>\n",
              "      <td>-1</td>\n",
              "      <td>100</td>\n",
              "      <td>3</td>\n",
              "      <td>341759</td>\n",
              "      <td>207.173840</td>\n",
              "    </tr>\n",
              "    <tr>\n",
              "      <th>2</th>\n",
              "      <td>0</td>\n",
              "      <td>58990862</td>\n",
              "      <td>7</td>\n",
              "      <td>1298.0</td>\n",
              "      <td>1</td>\n",
              "      <td>110000.0</td>\n",
              "      <td>2</td>\n",
              "      <td>11</td>\n",
              "      <td>-1</td>\n",
              "      <td>101</td>\n",
              "      <td>5</td>\n",
              "      <td>72001</td>\n",
              "      <td>1.000000</td>\n",
              "    </tr>\n",
              "    <tr>\n",
              "      <th>3</th>\n",
              "      <td>1</td>\n",
              "      <td>58995168</td>\n",
              "      <td>7</td>\n",
              "      <td>1335.5</td>\n",
              "      <td>1</td>\n",
              "      <td>151000.0</td>\n",
              "      <td>2</td>\n",
              "      <td>11</td>\n",
              "      <td>5</td>\n",
              "      <td>110</td>\n",
              "      <td>3</td>\n",
              "      <td>60084</td>\n",
              "      <td>1.000000</td>\n",
              "    </tr>\n",
              "    <tr>\n",
              "      <th>4</th>\n",
              "      <td>0</td>\n",
              "      <td>54987320</td>\n",
              "      <td>7</td>\n",
              "      <td>NaN</td>\n",
              "      <td>2</td>\n",
              "      <td>59000.0</td>\n",
              "      <td>2</td>\n",
              "      <td>11</td>\n",
              "      <td>5</td>\n",
              "      <td>108</td>\n",
              "      <td>4</td>\n",
              "      <td>450081</td>\n",
              "      <td>197.403141</td>\n",
              "    </tr>\n",
              "  </tbody>\n",
              "</table>\n",
              "</div>\n",
              "      <button class=\"colab-df-convert\" onclick=\"convertToInteractive('df-7ac1119b-54fc-4b35-b997-1c0a21dbb6ca')\"\n",
              "              title=\"Convert this dataframe to an interactive table.\"\n",
              "              style=\"display:none;\">\n",
              "        \n",
              "  <svg xmlns=\"http://www.w3.org/2000/svg\" height=\"24px\"viewBox=\"0 0 24 24\"\n",
              "       width=\"24px\">\n",
              "    <path d=\"M0 0h24v24H0V0z\" fill=\"none\"/>\n",
              "    <path d=\"M18.56 5.44l.94 2.06.94-2.06 2.06-.94-2.06-.94-.94-2.06-.94 2.06-2.06.94zm-11 1L8.5 8.5l.94-2.06 2.06-.94-2.06-.94L8.5 2.5l-.94 2.06-2.06.94zm10 10l.94 2.06.94-2.06 2.06-.94-2.06-.94-.94-2.06-.94 2.06-2.06.94z\"/><path d=\"M17.41 7.96l-1.37-1.37c-.4-.4-.92-.59-1.43-.59-.52 0-1.04.2-1.43.59L10.3 9.45l-7.72 7.72c-.78.78-.78 2.05 0 2.83L4 21.41c.39.39.9.59 1.41.59.51 0 1.02-.2 1.41-.59l7.78-7.78 2.81-2.81c.8-.78.8-2.07 0-2.86zM5.41 20L4 18.59l7.72-7.72 1.47 1.35L5.41 20z\"/>\n",
              "  </svg>\n",
              "      </button>\n",
              "      \n",
              "  <style>\n",
              "    .colab-df-container {\n",
              "      display:flex;\n",
              "      flex-wrap:wrap;\n",
              "      gap: 12px;\n",
              "    }\n",
              "\n",
              "    .colab-df-convert {\n",
              "      background-color: #E8F0FE;\n",
              "      border: none;\n",
              "      border-radius: 50%;\n",
              "      cursor: pointer;\n",
              "      display: none;\n",
              "      fill: #1967D2;\n",
              "      height: 32px;\n",
              "      padding: 0 0 0 0;\n",
              "      width: 32px;\n",
              "    }\n",
              "\n",
              "    .colab-df-convert:hover {\n",
              "      background-color: #E2EBFA;\n",
              "      box-shadow: 0px 1px 2px rgba(60, 64, 67, 0.3), 0px 1px 3px 1px rgba(60, 64, 67, 0.15);\n",
              "      fill: #174EA6;\n",
              "    }\n",
              "\n",
              "    [theme=dark] .colab-df-convert {\n",
              "      background-color: #3B4455;\n",
              "      fill: #D2E3FC;\n",
              "    }\n",
              "\n",
              "    [theme=dark] .colab-df-convert:hover {\n",
              "      background-color: #434B5C;\n",
              "      box-shadow: 0px 1px 3px 1px rgba(0, 0, 0, 0.15);\n",
              "      filter: drop-shadow(0px 1px 2px rgba(0, 0, 0, 0.3));\n",
              "      fill: #FFFFFF;\n",
              "    }\n",
              "  </style>\n",
              "\n",
              "      <script>\n",
              "        const buttonEl =\n",
              "          document.querySelector('#df-7ac1119b-54fc-4b35-b997-1c0a21dbb6ca button.colab-df-convert');\n",
              "        buttonEl.style.display =\n",
              "          google.colab.kernel.accessAllowed ? 'block' : 'none';\n",
              "\n",
              "        async function convertToInteractive(key) {\n",
              "          const element = document.querySelector('#df-7ac1119b-54fc-4b35-b997-1c0a21dbb6ca');\n",
              "          const dataTable =\n",
              "            await google.colab.kernel.invokeFunction('convertToInteractive',\n",
              "                                                     [key], {});\n",
              "          if (!dataTable) return;\n",
              "\n",
              "          const docLinkHtml = 'Like what you see? Visit the ' +\n",
              "            '<a target=\"_blank\" href=https://colab.research.google.com/notebooks/data_table.ipynb>data table notebook</a>'\n",
              "            + ' to learn more about interactive tables.';\n",
              "          element.innerHTML = '';\n",
              "          dataTable['output_type'] = 'display_data';\n",
              "          await google.colab.output.renderOutput(dataTable, element);\n",
              "          const docLink = document.createElement('div');\n",
              "          docLink.innerHTML = docLinkHtml;\n",
              "          element.appendChild(docLink);\n",
              "        }\n",
              "      </script>\n",
              "    </div>\n",
              "  </div>\n",
              "  "
            ]
          },
          "metadata": {},
          "execution_count": 418
        }
      ]
    },
    {
      "cell_type": "code",
      "source": [
        "customer_data.info()"
      ],
      "metadata": {
        "colab": {
          "base_uri": "https://localhost:8080/"
        },
        "id": "fDDgh7cNegon",
        "outputId": "c81610c6-89b6-4ca1-efec-e1d4bf446927"
      },
      "execution_count": 419,
      "outputs": [
        {
          "output_type": "stream",
          "name": "stdout",
          "text": [
            "<class 'pandas.core.frame.DataFrame'>\n",
            "RangeIndex: 1125 entries, 0 to 1124\n",
            "Data columns (total 13 columns):\n",
            " #   Column  Non-Null Count  Dtype  \n",
            "---  ------  --------------  -----  \n",
            " 0   label   1125 non-null   int64  \n",
            " 1   id      1125 non-null   int64  \n",
            " 2   fea_1   1125 non-null   int64  \n",
            " 3   fea_2   976 non-null    float64\n",
            " 4   fea_3   1125 non-null   int64  \n",
            " 5   fea_4   1125 non-null   float64\n",
            " 6   fea_5   1125 non-null   int64  \n",
            " 7   fea_6   1125 non-null   int64  \n",
            " 8   fea_7   1125 non-null   int64  \n",
            " 9   fea_8   1125 non-null   int64  \n",
            " 10  fea_9   1125 non-null   int64  \n",
            " 11  fea_10  1125 non-null   int64  \n",
            " 12  fea_11  1125 non-null   float64\n",
            "dtypes: float64(3), int64(10)\n",
            "memory usage: 114.4 KB\n"
          ]
        }
      ]
    },
    {
      "cell_type": "markdown",
      "source": [
        "## Imputing Missing Values"
      ],
      "metadata": {
        "id": "LDLqvnxyhXfi"
      }
    },
    {
      "cell_type": "markdown",
      "source": [
        "`customer_data.isnull().sum()` shows the sum of the number of null entries in each column of the dataset. `sns.distplot` was called for the fea_2 column that had null entries to see its histogram. This helps determine which method (mean, median, or mode) to use to impute its missing data. Since this column is normally distributed (even with a few outliers), the mean is used for imputation. The `SimpleImputer` from sklearn was used to impute the data and `.info()` and `.isnull().sum()` was used again to show that there were no more null values in the dataset. The for loop loops through the dataset and counts each column's information, showing that the dataset is not balanced in the columns."
      ],
      "metadata": {
        "id": "N-Zk_ASghXkH"
      }
    },
    {
      "cell_type": "code",
      "source": [
        "customer_data.isnull().sum()"
      ],
      "metadata": {
        "colab": {
          "base_uri": "https://localhost:8080/"
        },
        "id": "LTTFj84RhXsc",
        "outputId": "d5b8b987-1307-4b74-a4c0-9a4127b7d9d1"
      },
      "execution_count": 420,
      "outputs": [
        {
          "output_type": "execute_result",
          "data": {
            "text/plain": [
              "label       0\n",
              "id          0\n",
              "fea_1       0\n",
              "fea_2     149\n",
              "fea_3       0\n",
              "fea_4       0\n",
              "fea_5       0\n",
              "fea_6       0\n",
              "fea_7       0\n",
              "fea_8       0\n",
              "fea_9       0\n",
              "fea_10      0\n",
              "fea_11      0\n",
              "dtype: int64"
            ]
          },
          "metadata": {},
          "execution_count": 420
        }
      ]
    },
    {
      "cell_type": "code",
      "source": [
        "sns.distplot(customer_data['fea_2'])"
      ],
      "metadata": {
        "colab": {
          "base_uri": "https://localhost:8080/",
          "height": 351
        },
        "id": "KazEnCsshxnZ",
        "outputId": "10bd312a-70cd-48c1-8342-294e3f9f919f"
      },
      "execution_count": 421,
      "outputs": [
        {
          "output_type": "stream",
          "name": "stderr",
          "text": [
            "/usr/local/lib/python3.7/dist-packages/seaborn/distributions.py:2619: FutureWarning: `distplot` is a deprecated function and will be removed in a future version. Please adapt your code to use either `displot` (a figure-level function with similar flexibility) or `histplot` (an axes-level function for histograms).\n",
            "  warnings.warn(msg, FutureWarning)\n"
          ]
        },
        {
          "output_type": "execute_result",
          "data": {
            "text/plain": [
              "<matplotlib.axes._subplots.AxesSubplot at 0x7f0cb3c448d0>"
            ]
          },
          "metadata": {},
          "execution_count": 421
        },
        {
          "output_type": "display_data",
          "data": {
            "text/plain": [
              "<Figure size 432x288 with 1 Axes>"
            ],
            "image/png": "[encoded data removed]"
          },
          "metadata": {
            "needs_background": "light"
          }
        }
      ]
    },
    {
      "cell_type": "code",
      "source": [
        "from sklearn.impute import SimpleImputer\n",
        "imputer = SimpleImputer(strategy = \"mean\")"
      ],
      "metadata": {
        "id": "627uVLLfiYYd"
      },
      "execution_count": 422,
      "outputs": []
    },
    {
      "cell_type": "code",
      "source": [
        "customer_data.columns"
      ],
      "metadata": {
        "colab": {
          "base_uri": "https://localhost:8080/"
        },
        "id": "e5JdtTtRidq0",
        "outputId": "df1afdda-0ad4-4724-b833-afe2625ae266"
      },
      "execution_count": 423,
      "outputs": [
        {
          "output_type": "execute_result",
          "data": {
            "text/plain": [
              "Index(['label', 'id', 'fea_1', 'fea_2', 'fea_3', 'fea_4', 'fea_5', 'fea_6',\n",
              "       'fea_7', 'fea_8', 'fea_9', 'fea_10', 'fea_11'],\n",
              "      dtype='object')"
            ]
          },
          "metadata": {},
          "execution_count": 423
        }
      ]
    },
    {
      "cell_type": "code",
      "source": [
        "customer_data['fea_2'] = imputer.fit_transform(customer_data[['fea_2']])"
      ],
      "metadata": {
        "id": "PKB-LOzbii4f"
      },
      "execution_count": 424,
      "outputs": []
    },
    {
      "cell_type": "code",
      "source": [
        "customer_data.info()"
      ],
      "metadata": {
        "colab": {
          "base_uri": "https://localhost:8080/"
        },
        "id": "MePe6zTnivbF",
        "outputId": "9ebd2a8e-e648-4647-8202-ebf1457d94ba"
      },
      "execution_count": 425,
      "outputs": [
        {
          "output_type": "stream",
          "name": "stdout",
          "text": [
            "<class 'pandas.core.frame.DataFrame'>\n",
            "RangeIndex: 1125 entries, 0 to 1124\n",
            "Data columns (total 13 columns):\n",
            " #   Column  Non-Null Count  Dtype  \n",
            "---  ------  --------------  -----  \n",
            " 0   label   1125 non-null   int64  \n",
            " 1   id      1125 non-null   int64  \n",
            " 2   fea_1   1125 non-null   int64  \n",
            " 3   fea_2   1125 non-null   float64\n",
            " 4   fea_3   1125 non-null   int64  \n",
            " 5   fea_4   1125 non-null   float64\n",
            " 6   fea_5   1125 non-null   int64  \n",
            " 7   fea_6   1125 non-null   int64  \n",
            " 8   fea_7   1125 non-null   int64  \n",
            " 9   fea_8   1125 non-null   int64  \n",
            " 10  fea_9   1125 non-null   int64  \n",
            " 11  fea_10  1125 non-null   int64  \n",
            " 12  fea_11  1125 non-null   float64\n",
            "dtypes: float64(3), int64(10)\n",
            "memory usage: 114.4 KB\n"
          ]
        }
      ]
    },
    {
      "cell_type": "code",
      "source": [
        "customer_data.isnull().sum()"
      ],
      "metadata": {
        "colab": {
          "base_uri": "https://localhost:8080/"
        },
        "id": "o9mXGa3qivee",
        "outputId": "1dfbb7b3-1cd3-4479-f665-2751cd9c9cb3"
      },
      "execution_count": 426,
      "outputs": [
        {
          "output_type": "execute_result",
          "data": {
            "text/plain": [
              "label     0\n",
              "id        0\n",
              "fea_1     0\n",
              "fea_2     0\n",
              "fea_3     0\n",
              "fea_4     0\n",
              "fea_5     0\n",
              "fea_6     0\n",
              "fea_7     0\n",
              "fea_8     0\n",
              "fea_9     0\n",
              "fea_10    0\n",
              "fea_11    0\n",
              "dtype: int64"
            ]
          },
          "metadata": {},
          "execution_count": 426
        }
      ]
    },
    {
      "cell_type": "code",
      "source": [
        "for col in customer_data.columns : \n",
        "  print(customer_data[col].value_counts())"
      ],
      "metadata": {
        "colab": {
          "base_uri": "https://localhost:8080/"
        },
        "id": "0ki5DFYg4Iw5",
        "outputId": "ce9e4ccc-3f19-4e5a-87c8-bdeae806ba20"
      },
      "execution_count": 427,
      "outputs": [
        {
          "output_type": "stream",
          "name": "stdout",
          "text": [
            "0    900\n",
            "1    225\n",
            "Name: label, dtype: int64\n",
            "54982665    1\n",
            "58991343    1\n",
            "54988970    1\n",
            "54991614    1\n",
            "58989779    1\n",
            "           ..\n",
            "54982697    1\n",
            "54987300    1\n",
            "58993803    1\n",
            "58985008    1\n",
            "54989781    1\n",
            "Name: id, Length: 1125, dtype: int64\n",
            "7    476\n",
            "4    377\n",
            "5    261\n",
            "1      7\n",
            "6      2\n",
            "2      2\n",
            "Name: fea_1, dtype: int64\n",
            "1283.911373    149\n",
            "1241.000000     37\n",
            "1214.000000     27\n",
            "1305.500000     23\n",
            "1287.500000     21\n",
            "              ... \n",
            "1221.500000      1\n",
            "1197.500000      1\n",
            "1368.500000      1\n",
            "1116.500000      1\n",
            "1137.500000      1\n",
            "Name: fea_2, Length: 159, dtype: int64\n",
            "3    684\n",
            "1    309\n",
            "2    132\n",
            "Name: fea_3, dtype: int64\n",
            "35000.0     34\n",
            "50000.0     25\n",
            "90000.0     19\n",
            "150000.0    19\n",
            "110000.0    18\n",
            "            ..\n",
            "168000.0     1\n",
            "379000.0     1\n",
            "274000.0     1\n",
            "238000.0     1\n",
            "336000.0     1\n",
            "Name: fea_4, Length: 229, dtype: int64\n",
            "2    1045\n",
            "1      80\n",
            "Name: fea_5, dtype: int64\n",
            "11    465\n",
            "8     375\n",
            "15    259\n",
            "12     11\n",
            "4       4\n",
            "5       3\n",
            "6       2\n",
            "9       2\n",
            "3       2\n",
            "16      2\n",
            "Name: fea_6, dtype: int64\n",
            " 5     689\n",
            " 9     212\n",
            "-1     170\n",
            " 2      17\n",
            " 8       9\n",
            " 3       9\n",
            " 4       7\n",
            " 7       6\n",
            " 10      5\n",
            " 1       1\n",
            "Name: fea_7, dtype: int64\n",
            "110    98\n",
            "112    93\n",
            "100    80\n",
            "113    70\n",
            "114    65\n",
            "105    58\n",
            "111    52\n",
            "109    42\n",
            "90     42\n",
            "107    39\n",
            "85     38\n",
            "95     31\n",
            "108    28\n",
            "84     25\n",
            "104    24\n",
            "103    24\n",
            "80     23\n",
            "101    22\n",
            "86     20\n",
            "99     20\n",
            "89     19\n",
            "106    18\n",
            "83     15\n",
            "115    15\n",
            "87     14\n",
            "102    12\n",
            "82     12\n",
            "88     12\n",
            "91     10\n",
            "81     10\n",
            "93      9\n",
            "92      9\n",
            "79      8\n",
            "75      7\n",
            "96      7\n",
            "64      7\n",
            "98      7\n",
            "78      6\n",
            "76      5\n",
            "77      5\n",
            "94      4\n",
            "73      3\n",
            "72      2\n",
            "71      2\n",
            "74      2\n",
            "97      2\n",
            "68      2\n",
            "70      2\n",
            "67      2\n",
            "66      1\n",
            "65      1\n",
            "69      1\n",
            "Name: fea_8, dtype: int64\n",
            "5    521\n",
            "4    318\n",
            "3    278\n",
            "1      7\n",
            "2      1\n",
            "Name: fea_9, dtype: int64\n",
            "151300    128\n",
            "72000     103\n",
            "72001      40\n",
            "60000      26\n",
            "60019      23\n",
            "         ... \n",
            "330006      1\n",
            "450050      1\n",
            "450059      1\n",
            "330004      1\n",
            "510068      1\n",
            "Name: fea_10, Length: 280, dtype: int64\n",
            "1.000000      407\n",
            "200.000000    101\n",
            "173.205081     81\n",
            "223.606798     50\n",
            "187.082869     46\n",
            "             ... \n",
            "174.931415      1\n",
            "182.969943      1\n",
            "185.674446      1\n",
            "3.162278        1\n",
            "169.000000      1\n",
            "Name: fea_11, Length: 266, dtype: int64\n"
          ]
        }
      ]
    },
    {
      "cell_type": "markdown",
      "source": [
        "## Splitting the Dataset into Train and Test Sets using Holdout Validation"
      ],
      "metadata": {
        "id": "S4ddsd0okSkE"
      }
    },
    {
      "cell_type": "markdown",
      "source": [
        "The `x` and `y` variables are created using the drop method. `train_test_split` is called from sklearn to split the data 80/20 into 4 different parts, `x_train`, `x_test`, `y_train`, and `y_test`."
      ],
      "metadata": {
        "id": "G37iJWGXkTbN"
      }
    },
    {
      "cell_type": "code",
      "source": [
        "x = customer_data.drop(['label'], axis = 1)\n",
        "y = customer_data['label']"
      ],
      "metadata": {
        "id": "_yyuvXAQkSwA"
      },
      "execution_count": 428,
      "outputs": []
    },
    {
      "cell_type": "code",
      "source": [
        "from sklearn.model_selection import train_test_split\n",
        "x_train, x_test, y_train, y_test = train_test_split(x, y, test_size = 0.2, random_state = 42)"
      ],
      "metadata": {
        "id": "m3bn49TKjec8"
      },
      "execution_count": 429,
      "outputs": []
    },
    {
      "cell_type": "markdown",
      "source": [
        "## Scaling the Dataset using Standard Scaler"
      ],
      "metadata": {
        "id": "DeQvW30bJuHC"
      }
    },
    {
      "cell_type": "markdown",
      "source": [
        "`StandardScaler()` is called from `sklearn.preprocessing` to take both x training and test sets and scale them to fit the rest of the data and make the model more accurate."
      ],
      "metadata": {
        "id": "fU5agq7gJuVj"
      }
    },
    {
      "cell_type": "code",
      "source": [
        "from sklearn.preprocessing import StandardScaler\n",
        "sc_x = StandardScaler()\n",
        "x_train = sc_x.fit_transform(x_train)\n",
        "x_test = sc_x.transform(x_test)"
      ],
      "metadata": {
        "id": "OaQclfgqJueZ"
      },
      "execution_count": 430,
      "outputs": []
    },
    {
      "cell_type": "markdown",
      "source": [
        "## SVC Classifier"
      ],
      "metadata": {
        "id": "udYYh8TVLGnd"
      }
    },
    {
      "cell_type": "markdown",
      "source": [
        "The SVC classifier is imported from the sklearn SVM library so that it can be used as a classifier for 3 of the 4 techniques. The current score shows that the model is accurate, but not as accurate as we would like. When paired with one of the techniques, it can make the accuracy score go up."
      ],
      "metadata": {
        "id": "D_9y2nEGLGvW"
      }
    },
    {
      "cell_type": "code",
      "source": [
        "from sklearn.svm import SVC\n",
        "svc_model = SVC(random_state = 0)\n",
        "svc_model.fit(x_train, y_train)"
      ],
      "metadata": {
        "colab": {
          "base_uri": "https://localhost:8080/"
        },
        "id": "ILsE3UisLFyu",
        "outputId": "f75e8c5f-d02c-4686-b1a7-9768b6f791c0"
      },
      "execution_count": 431,
      "outputs": [
        {
          "output_type": "execute_result",
          "data": {
            "text/plain": [
              "SVC(random_state=0)"
            ]
          },
          "metadata": {},
          "execution_count": 431
        }
      ]
    },
    {
      "cell_type": "code",
      "source": [
        "svc_model_score = svc_model.score(x_test, y_test)"
      ],
      "metadata": {
        "id": "f9kwtI-uLOcZ"
      },
      "execution_count": 432,
      "outputs": []
    },
    {
      "cell_type": "markdown",
      "source": [
        "## Logistic Regression"
      ],
      "metadata": {
        "id": "urdXl2Y6hA2s"
      }
    },
    {
      "cell_type": "markdown",
      "source": [
        "The Logistic Regression is imported from the sklearn linear model library so that it can be used for 1 of the 4 techniques. The current score shows that the model is accurate, but not as accurate as we would like. When paired with one of the techniques, it can make the accuracy score go up."
      ],
      "metadata": {
        "id": "AVPLOQpAhBC-"
      }
    },
    {
      "cell_type": "code",
      "source": [
        "from sklearn.linear_model import LogisticRegression\n",
        "logistic_regressor = LogisticRegression(random_state = 0)\n",
        "logistic_regressor.fit(x_train, y_train)"
      ],
      "metadata": {
        "colab": {
          "base_uri": "https://localhost:8080/"
        },
        "id": "IclHFlmahDgu",
        "outputId": "2f646df0-5f80-43ac-b80b-ad5011449f31"
      },
      "execution_count": 433,
      "outputs": [
        {
          "output_type": "execute_result",
          "data": {
            "text/plain": [
              "LogisticRegression(random_state=0)"
            ]
          },
          "metadata": {},
          "execution_count": 433
        }
      ]
    },
    {
      "cell_type": "code",
      "source": [
        "logistic_score = logistic_regressor.score(x_test, y_test)\n",
        "print(logistic_score)"
      ],
      "metadata": {
        "colab": {
          "base_uri": "https://localhost:8080/"
        },
        "id": "YyrrhW_1hDlc",
        "outputId": "62cf1cde-70a1-4b3b-c657-eef821c6be4a"
      },
      "execution_count": 434,
      "outputs": [
        {
          "output_type": "stream",
          "name": "stdout",
          "text": [
            "0.7644444444444445\n"
          ]
        }
      ]
    },
    {
      "cell_type": "markdown",
      "source": [
        "## Stratified K Fold Cross Validation with SVC Classifier"
      ],
      "metadata": {
        "id": "VYlWN3pbkBEF"
      }
    },
    {
      "cell_type": "markdown",
      "source": [
        "The Stratified K Fold CV technique is used here for an imbalanced dataset. The parameters give multiple scores, from each iteration, and the final score takes these score values and takes the mean as the final score of 80% accuracy for the Stratified K Fold CV for this dataset."
      ],
      "metadata": {
        "id": "bYJp1_58kBI1"
      }
    },
    {
      "cell_type": "code",
      "source": [
        "from sklearn.model_selection import KFold, cross_val_score\n",
        "svc_kfold = SVC(kernel = \"rbf\", max_iter = 1000, random_state = 42)\n",
        "KFoldVal = KFold(10)"
      ],
      "metadata": {
        "id": "NSNGDKxamWt5"
      },
      "execution_count": 435,
      "outputs": []
    },
    {
      "cell_type": "code",
      "source": [
        "result_KFold = cross_val_score(svc_kfold, x, y, cv = KFoldVal)\n",
        "print(result_KFold)"
      ],
      "metadata": {
        "colab": {
          "base_uri": "https://localhost:8080/"
        },
        "id": "ZnWlwlUvnHke",
        "outputId": "6b41cb2a-1630-435a-b0ae-da24b21b5a08"
      },
      "execution_count": 436,
      "outputs": [
        {
          "output_type": "stream",
          "name": "stdout",
          "text": [
            "[0.7699115  0.78761062 0.7699115  0.78761062 0.77876106 0.76785714\n",
            " 0.80357143 0.83928571 0.83928571 0.85714286]\n"
          ]
        }
      ]
    },
    {
      "cell_type": "code",
      "source": [
        "kfold_score = np.mean(result_KFold)\n",
        "print(kfold_score)"
      ],
      "metadata": {
        "colab": {
          "base_uri": "https://localhost:8080/"
        },
        "id": "StVojfv3nKLH",
        "outputId": "b3f2a800-fdc1-4d10-e9c7-e2c6431cc6ad"
      },
      "execution_count": 437,
      "outputs": [
        {
          "output_type": "stream",
          "name": "stdout",
          "text": [
            "0.800094816687737\n"
          ]
        }
      ]
    },
    {
      "cell_type": "markdown",
      "source": [
        "## Repeated Random Subsampling CV with SVC Classifier"
      ],
      "metadata": {
        "id": "e12bkv5a1y_J"
      }
    },
    {
      "cell_type": "markdown",
      "source": [
        "The Repeated Random Subsampling CV technique is used here and the parameters give multiple scores, from each iteration, and the final score takes these score values and takes the mean as the final score of 78% to 81% accuracy for this technique, sometimes slightly better than the other techniques and sometimes slightly worse (all due to the shuffle in each execution)."
      ],
      "metadata": {
        "id": "mrzej9gs1zGM"
      }
    },
    {
      "cell_type": "code",
      "source": [
        "from sklearn.model_selection import ShuffleSplit, cross_val_score\n",
        "svc_rrscv = SVC(kernel = 'rbf', max_iter = 1000, random_state = 0)\n",
        "ssplit = ShuffleSplit(n_splits = 10, test_size = 0.2)\n",
        "result_ssplit = cross_val_score(svc_rrscv, x, y, cv = ssplit)\n",
        "result_ssplit"
      ],
      "metadata": {
        "colab": {
          "base_uri": "https://localhost:8080/"
        },
        "id": "URKZzDXY1zhj",
        "outputId": "9f82aeb7-1cba-4780-ce3e-464161d8b7a6"
      },
      "execution_count": 438,
      "outputs": [
        {
          "output_type": "execute_result",
          "data": {
            "text/plain": [
              "array([0.82666667, 0.83111111, 0.79555556, 0.80444444, 0.79555556,\n",
              "       0.81777778, 0.77333333, 0.80888889, 0.82222222, 0.83111111])"
            ]
          },
          "metadata": {},
          "execution_count": 438
        }
      ]
    },
    {
      "cell_type": "code",
      "source": [
        "ssplit_score = np.mean(result_ssplit)\n",
        "print(ssplit_score)"
      ],
      "metadata": {
        "colab": {
          "base_uri": "https://localhost:8080/"
        },
        "id": "mW7SLkvh1zkH",
        "outputId": "f1d0a396-48d8-4d5d-b4a6-6ce9f2ad464d"
      },
      "execution_count": 439,
      "outputs": [
        {
          "output_type": "stream",
          "name": "stdout",
          "text": [
            "0.8106666666666665\n"
          ]
        }
      ]
    },
    {
      "cell_type": "markdown",
      "source": [
        "## Randomized Search with Logistic Regressor"
      ],
      "metadata": {
        "id": "yzfkcmKx8-DN"
      }
    },
    {
      "cell_type": "markdown",
      "source": [
        "The Randomized Search technique is used here with the Logistic Regressor and the parameters give multiple scores, from each iteration, and the final score takes these score values and takes the mean as the final score of around 80% accuracy for this technique, around the same as Stratified K Fold Technique and the Grid Search technique."
      ],
      "metadata": {
        "id": "gLCQwTyB8-Nc"
      }
    },
    {
      "cell_type": "code",
      "source": [
        "from sklearn.model_selection import RandomizedSearchCV\n",
        "logistic_params = {\n",
        "         'solver': ['liblinear', 'lbfgs']\n",
        "}"
      ],
      "metadata": {
        "id": "-vR4Gq9RLaWA"
      },
      "execution_count": 440,
      "outputs": []
    },
    {
      "cell_type": "code",
      "source": [
        "random_model = RandomizedSearchCV(estimator = logistic_regressor, param_distributions = logistic_params, n_iter = 3)\n",
        "random_model.fit(x_train, y_train)"
      ],
      "metadata": {
        "colab": {
          "base_uri": "https://localhost:8080/"
        },
        "id": "C3EKZHoSLaZW",
        "outputId": "96f8c495-abde-4bf3-d80e-1ed3bdd4d7c2"
      },
      "execution_count": 441,
      "outputs": [
        {
          "output_type": "stream",
          "name": "stderr",
          "text": [
            "/usr/local/lib/python3.7/dist-packages/sklearn/model_selection/_search.py:296: UserWarning: The total space of parameters 2 is smaller than n_iter=3. Running 2 iterations. For exhaustive searches, use GridSearchCV.\n",
            "  UserWarning,\n"
          ]
        },
        {
          "output_type": "execute_result",
          "data": {
            "text/plain": [
              "RandomizedSearchCV(estimator=LogisticRegression(random_state=0), n_iter=3,\n",
              "                   param_distributions={'solver': ['liblinear', 'lbfgs']})"
            ]
          },
          "metadata": {},
          "execution_count": 441
        }
      ]
    },
    {
      "cell_type": "code",
      "source": [
        "random_score = random_model.score(x_train, y_train)\n",
        "print(random_score)"
      ],
      "metadata": {
        "colab": {
          "base_uri": "https://localhost:8080/"
        },
        "id": "fQd7L7DmVtlc",
        "outputId": "82073f15-c8ec-4032-f63e-cc70660637d1"
      },
      "execution_count": 442,
      "outputs": [
        {
          "output_type": "stream",
          "name": "stdout",
          "text": [
            "0.8088888888888889\n"
          ]
        }
      ]
    },
    {
      "cell_type": "markdown",
      "source": [
        "## Grid Search with SVC Classifier"
      ],
      "metadata": {
        "id": "qNMr9tHnNVZR"
      }
    },
    {
      "cell_type": "markdown",
      "source": [
        "The Grid Search technique is used here and the parameters give multiple scores, from each iteration, and the final score takes these score values and takes the mean as the final score of 80% accuracy for this technique."
      ],
      "metadata": {
        "id": "Ql1KFaXuNVe2"
      }
    },
    {
      "cell_type": "code",
      "source": [
        "from numpy.lib.polynomial import poly\n",
        "from sklearn.model_selection import GridSearchCV\n",
        "gridsearch_params = {'kernel': ['rbf', 'linear', 'poly'],\n",
        "                     'C': [0.1, 1],\n",
        "                     'gamma': [0.1, 1]\n",
        "}"
      ],
      "metadata": {
        "id": "4AL3WXnQYL7p"
      },
      "execution_count": 443,
      "outputs": []
    },
    {
      "cell_type": "code",
      "source": [
        "grid_model = GridSearchCV(estimator = SVC(), param_grid = gridsearch_params, cv = 5)"
      ],
      "metadata": {
        "id": "LV2Yb8wINWDW"
      },
      "execution_count": 444,
      "outputs": []
    },
    {
      "cell_type": "code",
      "source": [
        "grid_model.fit(x_train, y_train)"
      ],
      "metadata": {
        "colab": {
          "base_uri": "https://localhost:8080/"
        },
        "id": "svhrQ-vRalEY",
        "outputId": "3d430d75-33af-46ef-86c6-49a3574eb575"
      },
      "execution_count": 445,
      "outputs": [
        {
          "output_type": "execute_result",
          "data": {
            "text/plain": [
              "GridSearchCV(cv=5, estimator=SVC(),\n",
              "             param_grid={'C': [0.1, 1], 'gamma': [0.1, 1],\n",
              "                         'kernel': ['rbf', 'linear', 'poly']})"
            ]
          },
          "metadata": {},
          "execution_count": 445
        }
      ]
    },
    {
      "cell_type": "code",
      "source": [
        "grid_score = grid_model.score(x_train, y_train)\n",
        "print(grid_score)"
      ],
      "metadata": {
        "colab": {
          "base_uri": "https://localhost:8080/"
        },
        "id": "jgvRY68jav0t",
        "outputId": "4912b731-64d7-4b45-e1ab-f181b7132074"
      },
      "execution_count": 446,
      "outputs": [
        {
          "output_type": "stream",
          "name": "stdout",
          "text": [
            "0.8088888888888889\n"
          ]
        }
      ]
    },
    {
      "cell_type": "markdown",
      "source": [
        "## Pretty Table to Compare Scores"
      ],
      "metadata": {
        "id": "LRCJwT1VbnPz"
      }
    },
    {
      "cell_type": "markdown",
      "source": [
        "The Pretty Table is imported from the Pretty Table library to compare the scores from the 4 techniques and the SVC and Logistic Regression scores. It is clear that the SVC and Logistic Regression scores were lower than the rest. Stratified K Fold CV with SVC, Randomized Search with Logistic Regression, and Grid Search with SVC all have around the same score of 80%. The best score was the Repeated Random Subsampling CV with SVC with 81%, but it is a random shuffle so it is not consistent and ranges from 78% as the lowest to 81% as the highest."
      ],
      "metadata": {
        "id": "zsQnjzgFbnXZ"
      }
    },
    {
      "cell_type": "code",
      "source": [
        "from prettytable import PrettyTable\n",
        "myTable = PrettyTable([\"Technique and Classifier\", \"Score\"])\n",
        "myTable.add_row(['SVC', svc_model_score])\n",
        "myTable.add_row(['Logistic Regression', logistic_score])\n",
        "myTable.add_row(['Stratified K Fold CV with SVC', kfold_score])\n",
        "myTable.add_row(['Repeated Random Subsampling CV with SVC', ssplit_score])\n",
        "myTable.add_row(['Randomized Search with Logistic Regression', random_score])\n",
        "myTable.add_row(['Grid Search with SVC', grid_score])"
      ],
      "metadata": {
        "id": "BqU3UgiUbn0S"
      },
      "execution_count": 447,
      "outputs": []
    },
    {
      "cell_type": "code",
      "source": [
        "print(myTable)"
      ],
      "metadata": {
        "colab": {
          "base_uri": "https://localhost:8080/"
        },
        "id": "47ZKyzSQbn3e",
        "outputId": "80fd4a84-b6dd-42f3-9130-2b5379e2bb6e"
      },
      "execution_count": 448,
      "outputs": [
        {
          "output_type": "stream",
          "name": "stdout",
          "text": [
            "+--------------------------------------------+--------------------+\n",
            "|          Technique and Classifier          |       Score        |\n",
            "+--------------------------------------------+--------------------+\n",
            "|                    SVC                     | 0.7644444444444445 |\n",
            "|            Logistic Regression             | 0.7644444444444445 |\n",
            "|       Stratified K Fold CV with SVC        | 0.800094816687737  |\n",
            "|  Repeated Random Subsampling CV with SVC   | 0.8106666666666665 |\n",
            "| Randomized Search with Logistic Regression | 0.8088888888888889 |\n",
            "|            Grid Search with SVC            | 0.8088888888888889 |\n",
            "+--------------------------------------------+--------------------+\n"
          ]
        }
      ]
    }
  ]
}